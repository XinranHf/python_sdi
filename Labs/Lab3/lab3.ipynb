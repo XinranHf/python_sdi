{
 "cells": [
  {
   "cell_type": "markdown",
   "metadata": {},
   "source": [
    "# Practical session 3 - Brownian motion, Fourier transform\n",
    "\n",
    "Students (pair):\n",
    "- [Student 1]([link](https://github.com/username1)) MARTEL Alexandre\n",
    "- [Student 2]([link](https://github.com/username2)) HUANDFU Charline"
   ]
  },
  {
   "cell_type": "markdown",
   "metadata": {},
   "source": [
    "```\n",
    "conda create --name=lab3 --file=requirement.txt\n",
    "conda activate lab3\n",
    "# do not forget to deactivate the environment if needed\n",
    "# you can remove the environment once you are done\n",
    "conda env remove --name=lab3\n",
    "```"
   ]
  },
  {
   "cell_type": "markdown",
   "metadata": {},
   "source": []
  },
  {
   "cell_type": "code",
   "execution_count": null,
   "metadata": {},
   "outputs": [],
   "source": [
    "%load_ext autoreload\n",
    "%autoreload 2"
   ]
  },
  {
   "cell_type": "markdown",
   "metadata": {},
   "source": [
    "## <a name=\"ex1\">Exercise 1: Brownian motion</a>\n",
    "\n",
    "This first exercise consists in generating a Brownian motion on the closed unit ball $\\mathcal{B}(\\mathbf{0}, 1) = \\{ \\mathbf{x} \\mid \\Vert \\mathbf{x} \\Vert  \\leq 1\\}$, focusing first on the 2-D case. The Brownian motion is a random walk with independent, identically distributed Gaussian increments, appearing for instance in thermodynamics and statistical mechanics (to model the evolution of a large particle in a medium composed of a large number of small particles, ...). It is also connected to the diffusion process (Einstein).\n",
    "\n",
    "Let $N \\in \\mathbb{N}^*$, $\\delta > 0$, and $\\mathbf{x} = (x_1, x_2) \\in  \\mathcal{B}(\\mathbf{0}, 1)$. The first $N$ steps of a 2-D discrete-time Brownian motion $W$ can be generated as follows\n",
    "\n",
    "\\begin{align*}\n",
    "    W_0 &= \\mathbf{x}, \\\\\n",
    "    %\n",
    "    (\\forall n \\in \\{1, \\dotsc, N-1 \\}), \\quad W_n &= W_{n−1} + \\sqrt{\\delta} G_n, \\quad G_n \\sim \\mathcal{N}(\\mathbf{0}, \\mathbf{I}),\n",
    "\\end{align*}\n",
    "\n",
    "where $\\mathcal{N}(\\mathbf{0}, \\mathbf{I})$ is a Gaussian distribution with mean $\\mathbf{0}$ and identity covariance matrix.\n",
    "\n",
    "1. Define a random generator `rng`, set to a known state for reproducibility (see session 2)."
   ]
  },
  {
   "cell_type": "markdown",
   "metadata": {},
   "source": [
    "**Answer:**"
   ]
  },
  {
   "cell_type": "code",
   "execution_count": null,
   "metadata": {},
   "outputs": [],
   "source": [
    "import numpy as np\n",
    "\n",
    "# random generator with a fixed seed for reproducibility\n",
    "seed = 42\n",
    "rng = np.random.default_rng(seed)\n",
    "\n",
    "rng.random()"
   ]
  },
  {
   "cell_type": "markdown",
   "metadata": {},
   "source": [
    "2. Implement a function `brownian_motion(niter, x, step, rng)` which\n",
    "\n",
    "    - simulates $W$ until it reaches the boundary of $\\mathcal{B}(\\mathbf{0}, 1)$, using a maximum of $N$ iterations (`niter`), a starting point $\\mathbf{x} \\in \\mathcal{B}(\\mathbf{0}, 1)$ (`x`) and step-size $\\delta$ (`step`);\n",
    "    - interpolates linearly between the two last positions to determine the points $W^*$ where the trajectory crosses the boundary (if applicable);\n",
    "    - returns both the whole random walk $W$ and, if appropriate, the point at the intersection between the last segment of the trajectory and $\\mathcal{B}(\\mathbf{0}, 1)$.\n",
    " \n",
    "> Hint: \n",
    "> - you can easily derive a closed form expression for $W^*$, observing that $\\Vert W^* \\Vert^2= 1$ and $W^* \\in [W_{n-1}, W_n]$. \n",
    "> - you can also take a look at [`np.roots`](https://numpy.org/doc/stable/reference/generated/numpy.roots.html?highlight=roots#numpy.roots) if needed.\n",
    "\n",
    "> Recall of the Linear Interpolation (LERP) for $n$-dimensional vectors:\n",
    "> - Clearly, $\\vec{D}=\\alpha \\vec{C}$ with $\\alpha \\in [0, 1]$ and hence $\\vec{P}-\\vec{B}= \\alpha (\\vec{A}-\\vec{B})$ which is equivalent to $\\vec{P}= (1-\\alpha) \\vec{B} + \\alpha \\vec{A}$. \n",
    "![alternatvie text](img/for_Course.png)"
   ]
  },
  {
   "cell_type": "markdown",
   "metadata": {},
   "source": [
    "**Answer:**"
   ]
  },
  {
   "cell_type": "markdown",
   "metadata": {},
   "source": [
    "Intersection with the Unit Disk Boundary : \n",
    "\n",
    "We want to find the intersection point W\\* where the trajectory crosses the boundary of the unit disk by linearly interpolating between the last two points.\n",
    "\n",
    "For that we can write  $\\vec{W^*}= (1-\\alpha) \\vec{W_n} + \\alpha \\vec{Wn-1}$ with $\\alpha \\in [0, 1]$ and we know that $\\Vert W^* \\Vert^2= 1$. Thus we have the following equation :\n",
    "$\\Vert (1-\\alpha) {W_n} + \\alpha {W_{n-1}} \\Vert^2 = 1$ ie. $\\Vert  {W_n} + \\alpha({W_n}-{W_{n-1}})\\Vert^2 = 1$ ie. we want to find the root of the following polynom : $({W_n}-{W_{n-1}})^2 \\alpha ^2 + 2{W_n}({W_n}-{W_{n-1}})\\alpha + ({W_n}) ^2 -1 = 0 $"
   ]
  },
  {
   "cell_type": "code",
   "execution_count": null,
   "metadata": {},
   "outputs": [],
   "source": [
    "def brownian_motion(niter, x, step, rng):\n",
    "\n",
    "    \"\"\"\n",
    "    Simulate 2D Brownian motion inside the unit ball.\n",
    "\n",
    "    Args :\n",
    "        niter (int) : Maximum number of iterations\n",
    "        x (tuple) : Initial position in the unit ball\n",
    "        step (float) : Step size\n",
    "        rng : Random number generator\n",
    "\n",
    "    Returns :\n",
    "    W (array) : Array of shape (m, 2) containing the trajectory points\n",
    "    W_star (array or None) : Intersection point with the boundary if the trajectory crosses it, else None\n",
    "    \"\"\"\n",
    "\n",
    "    x = np.array(x)\n",
    "    # Check if the initial point is in the unit ball\n",
    "    if np.linalg.norm(x) > 1.0 :\n",
    "            raise ValueError(\"Initial point must be inside the unit ball !\")\n",
    "\n",
    "    W = [x] # add initial point to the path\n",
    "    W_star = None\n",
    "\n",
    "    for i in range(niter):\n",
    "\n",
    "        G = rng.normal(0, 1, size=2) # Generate Gaussian increment\n",
    "        w = W[i] + np.sqrt(step) * G # Brownian motion increment\n",
    "\n",
    "        if np.linalg.norm(w) <= 1.0:\n",
    "            # Still inside the ball\n",
    "            W.append(w)\n",
    "        else:\n",
    "            # We crossed the boundary -> interpolation to find intersection W* ie. solve ||(1-alpha)B + alpha*A||^2 = 1 for alpha in [0,1]\n",
    "            B = W[-1]\n",
    "            A = w\n",
    "\n",
    "            # Quadratic coefficients\n",
    "            a = np.dot(A-B, A-B)\n",
    "            b = 2 * np.dot(B, A-B)\n",
    "            c = np.dot(B, B) - 1.0\n",
    "            roots = np.roots([a, b, c])\n",
    "\n",
    "            # Pick the root between 0 and 1\n",
    "            alpha_candidates = roots[(roots >= 0) & (roots <= 1)]\n",
    "            if alpha_candidates.size == 0:\n",
    "                # Shouldn’t happen but safe fallback\n",
    "                alpha = 1.0\n",
    "            else:\n",
    "                alpha = alpha_candidates[0]\n",
    "            W_star = (1 - alpha) * B + alpha * A\n",
    "\n",
    "            W.append(W_star)\n",
    "            break\n",
    "\n",
    "    return np.array(W), W_star\n"
   ]
  },
  {
   "cell_type": "markdown",
   "metadata": {},
   "source": [
    "3. Diplay the trajectory of a Brownian motion starting from $\\mathbf{x} = (0.2, 0.4)$, using $\\delta = 10^{-2}$, $N = 1000$. Display the unit circle on the same figure, and highlight the intersection with the boundary of the domain (whenever it exists).\n",
    "\n",
    "> Hint: to draw the unit disk, you can use for instance:\n",
    "> ```python\n",
    "> circle = plt.Circle((0,0), 1)\n",
    "> fig, ax = plt.subplots()\n",
    "> plt.xlim(-1.25,1.25)\n",
    "> plt.ylim(-1.25,1.25)\n",
    "> plt.grid(linestyle = \"--\", zorder = 1)\n",
    "> ax.set_aspect(1)\n",
    "> ax.add_artist(circle)\n",
    "> ```"
   ]
  },
  {
   "cell_type": "markdown",
   "metadata": {},
   "source": [
    "**Answer:**"
   ]
  },
  {
   "cell_type": "code",
   "execution_count": null,
   "metadata": {},
   "outputs": [],
   "source": [
    "import matplotlib.pyplot as plt"
   ]
  },
  {
   "cell_type": "code",
   "execution_count": null,
   "metadata": {},
   "outputs": [],
   "source": [
    "# Initialization\n",
    "x0 = (0.2, 0.4)\n",
    "delta = 1e-2\n",
    "N = 1000\n",
    "rng = np.random.default_rng(seed)\n",
    "\n",
    "# Stimulate\n",
    "W, W_star = brownian_motion(N, x0, delta, rng)\n",
    "\n",
    "# Plot\n",
    "circle = plt.Circle((0,0), 1, fill=False)  # unit circle\n",
    "fig, ax = plt.subplots(figsize=(6,6))\n",
    "plt.xlim(-1.25,1.25)\n",
    "plt.ylim(-1.25,1.25)\n",
    "plt.grid()\n",
    "ax.add_artist(circle)\n",
    "\n",
    "# Brownian trajectory\n",
    "ax.plot(W[:,0], W[:,1], label='Brownian trajectory')\n",
    "ax.scatter(W[0,0], W[0,1], color='green', label='Start point')\n",
    "\n",
    "# Intersection point\n",
    "if W_star is not None:\n",
    "    ax.scatter(W_star[0], W_star[1], color='red',  marker='x', label='Boundary Intersection')\n",
    "\n",
    "plt.legend()\n",
    "plt.title(\"2D Brownian Motion inside Unit Disk\")\n",
    "plt.grid(False)\n",
    "ax.legend(loc='center left', bbox_to_anchor=(1, 0.5))  # legend outside the plot\n",
    "plt.show()"
   ]
  },
  {
   "cell_type": "markdown",
   "metadata": {},
   "source": [
    "4. Represent, on the same figure, 4 other trajectories of $W$ with the same parameters."
   ]
  },
  {
   "cell_type": "markdown",
   "metadata": {},
   "source": [
    "**Answer:**"
   ]
  },
  {
   "cell_type": "code",
   "execution_count": null,
   "metadata": {},
   "outputs": [],
   "source": [
    "rng = np.random.default_rng(seed)\n",
    "\n",
    "fig, ax = plt.subplots(figsize=(6,6))\n",
    "\n",
    "# Draw unit circle\n",
    "circle = plt.Circle((0,0), 1, fill=False)\n",
    "ax.add_artist(circle)\n",
    "plt.xlim(-1.25,1.25)\n",
    "plt.ylim(-1.25,1.25)\n",
    "plt.grid()\n",
    "\n",
    "# Colors for different trajectories\n",
    "colors = ['blue', 'red', 'green', 'purple', 'orange']\n",
    "\n",
    "ax.scatter(x0[0], x0[1], color = 'black', marker = 'o', label = \"Starting point\")  # start point (same for all the trajectories)\n",
    "\n",
    "x_marker_added = False  # flag to ensure label is only added once\n",
    "\n",
    "for i in range(5):\n",
    "    W, W_star = brownian_motion(N, x0, delta, rng)\n",
    "\n",
    "    if W_star is not None:\n",
    "        if not x_marker_added :\n",
    "            ax.scatter(W_star[0], W_star[1], color='black', marker='x', label = \"Boundary intersection\")  # boundary intersection\n",
    "            x_marker_added = True\n",
    "        else :\n",
    "            ax.scatter(W_star[0], W_star[1], color='black', marker='x')  # boundary intersection without label\n",
    "\n",
    "    ax.plot(W[:,0], W[:,1], color=colors[i], label=f'Trajectory {i+1}')\n",
    "\n",
    "plt.title(\"Five Brownian Motion Trajectories inside Unit Disk\")\n",
    "plt.grid(False)\n",
    "plt.legend()\n",
    "ax.legend(loc='center left', bbox_to_anchor=(1, 0.5))  # legend outside the plot\n",
    "plt.show()\n"
   ]
  },
  {
   "cell_type": "markdown",
   "metadata": {},
   "source": [
    "5. [Bonus] Generalize the procedure to a $M$-dimensional Brownian motion, $M > 2$."
   ]
  },
  {
   "cell_type": "markdown",
   "metadata": {},
   "source": [
    "**Answer:**"
   ]
  },
  {
   "cell_type": "code",
   "execution_count": null,
   "metadata": {},
   "outputs": [],
   "source": [
    "def brownian_motion_M(niter, x, step, rng):\n",
    "\n",
    "    \"\"\"\n",
    "    Simulate M-dimensional Brownian motion inside the unit ball.\n",
    "\n",
    "    Args :\n",
    "        niter (int) : Maximum number of iterations\n",
    "        x (tuple) : Initial position in the unit ball\n",
    "        step (float) : Step size\n",
    "        rng : Random number generator\n",
    "\n",
    "    Returns :\n",
    "    W (array) : Array containing the trajectory points\n",
    "    W_star (array or None) : Intersection point with the boundary if the trajectory crosses it, else None\n",
    "    \"\"\"\n",
    "\n",
    "\n",
    "    x = np.array(x, dtype=float)\n",
    "    M = x.shape[0]  # dimension\n",
    "    if np.linalg.norm(x) > 1.0 :\n",
    "        raise ValueError(\"Initial point must be inside the unit ball !\")\n",
    "\n",
    "    W = [x]\n",
    "    W_star = None\n",
    "\n",
    "    for i in range(niter):\n",
    "\n",
    "        G = rng.normal(0, 1, size=M)   # Generate Gaussian increment in M dimensions\n",
    "        w = W[-1] + np.sqrt(step) * G\n",
    "\n",
    "        if np.linalg.norm(w) <= 1.0:\n",
    "            # Still inside the ball\n",
    "            W.append(w)\n",
    "        else:\n",
    "            # Iterpolation to find W* ie solve ||(1-alpha)B + alpha*A||^2 = 1 for alpha in [0,1]\n",
    "            B = W[-1]\n",
    "            A = w\n",
    "\n",
    "            # Quadratic coefficients\n",
    "            a = np.dot(A-B, A-B)\n",
    "            b = 2 * np.dot(B, A-B)\n",
    "            c = np.dot(B, B) - 1.0\n",
    "            roots = np.roots([a, b, c])\n",
    "\n",
    "            # Pick the root between 0 and 1\n",
    "            alpha_candidates = roots[(roots >= 0) & (roots <= 1)]\n",
    "            if alpha_candidates.size == 0:\n",
    "                # Shouldn’t happen but safe fallback\n",
    "                alpha = 1.0\n",
    "            else:\n",
    "                alpha = alpha_candidates[0]\n",
    "            W_star = (1 - alpha) * B + alpha * A\n",
    "\n",
    "            W.append(W_star)\n",
    "            break\n",
    "\n",
    "    return np.array(W), W_star\n"
   ]
  },
  {
   "cell_type": "markdown",
   "metadata": {},
   "source": [
    "### 3D Visualization exemple"
   ]
  },
  {
   "cell_type": "code",
   "execution_count": null,
   "metadata": {},
   "outputs": [],
   "source": [
    "# Initialization\n",
    "x0 = (0.1, 0.1, 0.1)\n",
    "delta = 1e-2\n",
    "N = 1000\n",
    "rng = np.random.default_rng(seed)\n",
    "\n",
    "# Simulate\n",
    "W, W_star = brownian_motion_M(N, x0, delta, rng)\n",
    "\n",
    "# Plot in 3D with transparent unit sphere\n",
    "fig = plt.figure(figsize = (10,10))\n",
    "ax = fig.add_subplot(projection='3d')\n",
    "ax.set_aspect(\"equal\")\n",
    "\n",
    "# draw unit ball\n",
    "u, v = np.mgrid[0:2*np.pi:20j, 0:np.pi:10j]\n",
    "x = np.cos(u)*np.sin(v)\n",
    "y = np.sin(u)*np.sin(v)\n",
    "z = np.cos(v)\n",
    "ax.plot_wireframe(x, y, z, color=\"gray\", alpha = 0.3)\n",
    "ax.plot_surface(x, y, z, color='gray', alpha=0.1)\n",
    "\n",
    "# Plot trajectory\n",
    "ax.plot(W[:,0], W[:,1], W[:,2], label='Brownian trajectory')\n",
    "ax.scatter(W[0,0], W[0,1], W[0,2], color='green', label='Start')\n",
    "\n",
    "if W_star is not None:\n",
    "    ax.scatter(W_star[0], W_star[1], W_star[2], color='red', marker = \"x\", label='Boundary Intersection')\n",
    "\n",
    "\n",
    "# Axis labels\n",
    "ax.set_xlabel('X')\n",
    "ax.set_ylabel('Y')\n",
    "ax.set_zlabel('Z')\n",
    "ax.set_title('3D Brownian Motion inside Unit Ball')\n",
    "ax.legend()\n",
    "\n",
    "plt.show()\n"
   ]
  },
  {
   "cell_type": "markdown",
   "metadata": {},
   "source": [
    "---\n",
    "## <a name=\"ex2\">Exercise 2: 2D Fourier transform, ideal low-pass filter and linear convolution</a>\n",
    "\n",
    "In this exercise, we explore the use of the 2-dimensional Fourier transform to filter an image, and convolve it with a blurring kernel.\n",
    "\n",
    "1\\. Load and display one of the images contained in the `img/` folder. The image will be denoted by $\\mathbf{X} \\in \\mathbb{R}^{M_1 \\times N_1}$ in the rest of this exercise."
   ]
  },
  {
   "cell_type": "markdown",
   "metadata": {},
   "source": [
    "**Answer:**"
   ]
  },
  {
   "cell_type": "code",
   "execution_count": null,
   "metadata": {},
   "outputs": [],
   "source": [
    "from PIL import Image\n",
    "\n",
    "image = Image.open(\"img\\cameraman.png\")\n",
    "image"
   ]
  },
  {
   "cell_type": "markdown",
   "metadata": {},
   "source": [
    "2\\. Let $\\mathcal{F}$ denote the 2D discrete Fourier transform. Compute $|\\mathcal{F}(\\mathbf{X})|^2$, the spectrum of the image $\\mathbf{X} \\in \\mathbb{R}^{M_1 \\times N_1}$ (i.e., the term-wise squared absolute value of its Fourier transform) loaded in 1. Display the result in logarithmic scale.\n",
    "\n",
    "a) In this representation, where is the pixel of the spectrum associated with the null frequency located?\n",
    "    \n",
    "b) Take a look at the documentation of `np.fft.fftshift`. Use it to ensure that the null frequency is located at the center of the image. "
   ]
  },
  {
   "cell_type": "markdown",
   "metadata": {},
   "source": [
    "**Answer:**"
   ]
  },
  {
   "cell_type": "code",
   "execution_count": null,
   "metadata": {},
   "outputs": [],
   "source": [
    "import numpy as np\n",
    "import matplotlib.pyplot as plt\n",
    "\n",
    "X = np.array(image)\n",
    "F = np.fft.fft2(X)\n",
    "\n",
    "#Pour le shift\n",
    "F_shifted = np.fft.fftshift(F)\n",
    "spectrum = np.abs(F_shifted)**2\n",
    "plt.imshow(np.log(spectrum), cmap='gray')\n",
    "\n",
    "# On a créé le spectre en amplitude d'une image et on l'a affiché en échelle log. Cela est cohérentpar rapport aux autres spectre d'image que l'on peut voir sur internet.\n"
   ]
  },
  {
   "cell_type": "markdown",
   "metadata": {},
   "source": [
    "3\\. \n",
    "    a) Create a function `ideal_lowpass_filter` to filter $\\mathbf{X}$ by an ideal low-pass filter. The filter preserves Fourier coefficients associated to frequencies below a cutoff specified in each direction ($\\mathbf{f}_c = (f_{c,y}, f_{c,x})$), and sets others to zero. For simplicity, $f_{c,y}$ and $f_{c,x}$ can be expressed as a number of samples to be kept along each dimension (e.g., $\\mathbf{f}_c = (50,50)$).\n",
    "\n",
    "b) Display the filtered image for 2 different values of $\\mathbf{f}_c$. What do you observe as the cutoff frequencies increase?\n",
    "    \n",
    "> Warning: beware the type of the array after `np.fft.fft2`, do not hesitate to specify the type if you make copies from this array\n",
    "> ```python\n",
    "> a = np.zeros((2,2), dtype=np.complex)\n",
    "> ...\n",
    "> ```"
   ]
  },
  {
   "cell_type": "markdown",
   "metadata": {},
   "source": [
    "**Answer:**"
   ]
  },
  {
   "cell_type": "code",
   "execution_count": null,
   "metadata": {},
   "outputs": [],
   "source": [
    "import numpy as np\n",
    "\n",
    "#On crée une fonction de filtrage passe-bas idéal\n",
    "def ideal_lowpass_filter(X, fc):\n",
    "    F = np.fft.fft2(X)\n",
    "    F_shifted = np.fft.fftshift(F)\n",
    "    h, w = X.shape\n",
    "    cy, cx = h // 2, w // 2\n",
    "\n",
    "    fy, fx = fc\n",
    "\n",
    "    F_filtered = np.zeros_like(F_shifted,  dtype=complex)\n",
    "\n",
    "    # Ceci est le masque du filtre passe-bas idéal, qui est une fenêtre rectangulaire centrée.\n",
    "    F_filtered[cy-fy:cy+fy, cx-fx:cx+fx] = F_shifted[cy-fy:cy+fy, cx-fx:cx+fx]\n",
    "\n",
    "    F_ishifted = np.fft.ifftshift(F_filtered)\n",
    "    X_filtered = np.fft.ifft2(F_ishifted)\n",
    "\n",
    "    return np.abs(X_filtered)\n",
    "\n",
    "#exemples\n",
    "X_filtered_20 = ideal_lowpass_filter(X, (20, 20))\n",
    "X_filtered_50 = ideal_lowpass_filter(X, (50, 50))\n",
    "\n",
    "# Je test des example un peu étranges pour observer le comportement\n",
    "X_filtered_100 = ideal_lowpass_filter(X, (10, 100))\n",
    "\n",
    "plt.figure(figsize=(15,5))\n",
    "\n",
    "\n",
    "# On affiche en gris pour mieux visualiser\n",
    "plt.imshow(X_filtered_20, cmap='gray')\n",
    "plt.title('fc = (20, 20)')\n",
    "plt.axis('off')\n",
    "\n",
    "plt.subplot(1,3,2)\n",
    "plt.imshow(X_filtered_50, cmap='gray')\n",
    "plt.title('fc = (50, 50)')\n",
    "plt.axis('off')\n",
    "\n",
    "plt.subplot(1,3,3)\n",
    "plt.imshow(X_filtered_100, cmap='gray')\n",
    "plt.title('fc = (10, 100)')\n",
    "plt.axis('off')\n",
    "\n",
    "plt.show()\n"
   ]
  },
  {
   "cell_type": "markdown",
   "metadata": {},
   "source": [
    "Réponse : Pour des valeurs de cutoff petites, seules les bassse fréquences sont conservées. Ce qui veut dire que l’image est très floue, et qu'on perd les détails.\n",
    "En augmentant fc, plus de fréquences sont conservées donc l’image devient plus nette, jusqu’à retrouver environ l’originale si fc est grand."
   ]
  },
  {
   "cell_type": "markdown",
   "metadata": {},
   "source": [
    "4\\. Let $\\mathbf{H} \\in \\mathbb{R}^{M_2\\times N_2}$ be a 2-D Gaussian kernel, obtained as the outer product of two 1-D Gaussian windows $\\mathbf{w}_y \\in \\mathbb{R}^{M_2}$ and $\\mathbf{w}_x \\in \\mathbb{R}^{N_2}$, of standard deviation $\\sigma_y = 10$ and $\\sigma_x = 10$, respectively:\n",
    "\n",
    "\\begin{equation}\n",
    "    \\mathbf{H} = \\mathbf{w}_y \\mathbf{w}_x^T.\n",
    "\\end{equation}\n",
    "\n",
    "Let $M = M_1+M_2-1$ and $N =  N_1+N_2-1$. From the discrete convolution theorem, the linear convolution between $\\mathbf{H}$ and $\\mathbf{X}$ can be computed as follows\n",
    "\n",
    "\\begin{equation}\n",
    "    \\mathbf{X} \\star \\mathbf{H} = \\mathcal{F}^{-1} \\Big( \\mathcal{F}\\big(P_1(\\mathbf{X})\\big) \\odot \\mathcal{F}\\big(P_2(\\mathbf{H})\\big) \\Big) \\in \\mathbb{R}^{M\\times N},\n",
    "\\end{equation}\n",
    "\n",
    "where $P_i: \\mathbb{R}^{M_i \\times N_i} \\rightarrow \\mathbb{R}^{M \\times N}$, $i \\in \\{1, 2\\}$, are 0-padding operators, $\\odot$ is the Hadamard (= term-wise) product, $\\mathcal{F}^{-1}$ is the 2D discrete inverse Fourier transform.\n",
    "\n",
    "Compute and display $\\mathbf{X} \\star \\mathbf{H}$, for $M_2 = N_2 = 10$. What do you observe?\n",
    "\n",
    "> Hint: \n",
    "> - the usual 0-padding procedure in image space consists in appending trailing zeros. For instance (in 1D), 0-padding a vector $\\mathbf{x} \\in \\mathbb{R}^N_1$ to the size $N>N_1$ corresponds to creating the vector\n",
    "\\begin{bmatrix}\n",
    "\\mathbf{x} \\\\\n",
    "\\mathbf{0}_{N-N_1}\n",
    "\\end{bmatrix}\n",
    "> - since the input images are real, $\\mathcal{F}(\\mathbf{x})$ and $\\mathcal{F}(\\mathbf{h})$ are Hermitian symmetric. In this case, a more efficient version of `np.fft.fft2` can be used, computing only quarter of the Fourier coefficients (half of the Fourier coefficients in each direction): [`np.fft.rfft2`](https://numpy.org/doc/stable/reference/generated/numpy.fft.rfft2.html?highlight=rfft#numpy.fft.rfft2). Its inverse, [`np.fft.irfft2`](https://numpy.org/doc/stable/reference/generated/numpy.fft.irfft2.html#numpy.fft.irfft2), also ensures that the output is real;\n",
    "> - the 2D Gaussian window can be generated as the outer product of two 1D Gaussian windows (one window for each dimension);\n",
    "> - you can take a look at [scipy.signal.windows.gaussian](https://docs.scipy.org/doc/scipy/reference/generated/scipy.signal.windows.gaussian.html#scipy.signal.windows.gaussian) and [np.newaxis](https://numpy.org/doc/stable/reference/constants.html?highlight=newaxis#numpy.newaxis) (or `np.reshape` or built-in `np.outer`)."
   ]
  },
  {
   "cell_type": "markdown",
   "metadata": {},
   "source": [
    "**Answer:**"
   ]
  },
  {
   "cell_type": "code",
   "execution_count": null,
   "metadata": {},
   "outputs": [],
   "source": [
    "from scipy.signal.windows import gaussian\n",
    "import numpy as np\n",
    "\n",
    "M2, N2 = 10, 10\n",
    "sigma_y, sigma_x = 10, 10\n",
    "\n",
    "# On créer un Gaussian kernel 2D en multipliant deux gaussiens 1D\n",
    "\n",
    "wy = gaussian(M2, std=sigma_y)[:, np.newaxis]  # vecteur colonne\n",
    "wx = gaussian(N2, std=sigma_x)[np.newaxis, :]  # vecteur ligne\n",
    "\n",
    "H = wy @ wx  #H -> (M2, N2)"
   ]
  },
  {
   "cell_type": "code",
   "execution_count": null,
   "metadata": {},
   "outputs": [],
   "source": [
    "M1, N1 = X.shape\n",
    "M = M1 + M2 - 1\n",
    "N = N1 + N2 - 1\n",
    "\n",
    "X_pad = np.zeros((M, N))\n",
    "H_pad = np.zeros((M, N))\n",
    "\n",
    "X_pad[:M1, :N1] = X\n",
    "H_pad[:M2, :N2] = H\n"
   ]
  },
  {
   "cell_type": "code",
   "execution_count": null,
   "metadata": {},
   "outputs": [],
   "source": [
    "F_X = np.fft.fft2(X_pad)\n",
    "F_H = np.fft.fft2(H_pad)\n",
    "\n",
    "# On a créé les versions avec padding de X et H, puis on a calculé leur transformée de Fourier 2D.\n",
    "\n",
    "# frequence produit\n",
    "F_conv = F_X * F_H\n",
    "\n",
    "X_conv = np.fft.ifft2(F_conv).real\n"
   ]
  },
  {
   "cell_type": "code",
   "execution_count": null,
   "metadata": {},
   "outputs": [],
   "source": [
    "import matplotlib.pyplot as plt\n",
    "plt.imshow(X_conv, cmap='gray')\n",
    "plt.title(\"Image filtrée par Gaussian kernel\")\n",
    "plt.show()\n"
   ]
  }
 ],
 "metadata": {
  "kernelspec": {
   "display_name": "lab1",
   "language": "python",
   "name": "python3"
  },
  "language_info": {
   "codemirror_mode": {
    "name": "ipython",
    "version": 3
   },
   "file_extension": ".py",
   "mimetype": "text/x-python",
   "name": "python",
   "nbconvert_exporter": "python",
   "pygments_lexer": "ipython3",
   "version": "3.8.20"
  }
 },
 "nbformat": 4,
 "nbformat_minor": 4
}
